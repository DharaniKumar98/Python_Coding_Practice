{
 "cells": [
  {
   "cell_type": "code",
   "execution_count": 2,
   "metadata": {},
   "outputs": [
    {
     "name": "stdout",
     "output_type": "stream",
     "text": [
      "['04/28/2022, 13:03:00', '04/27/2022, 13:03:00', '04/26/2022, 13:03:00']\n"
     ]
    }
   ],
   "source": [
    "import pandas as pd\n",
    "from datetime import datetime, timedelta\n",
    "from pandas import DataFrame\n",
    "\n"
   ]
  },
  {
   "cell_type": "markdown",
   "metadata": {},
   "source": [
    "## Convert Pandas Column to Datetime"
   ]
  },
  {
   "cell_type": "markdown",
   "metadata": {},
   "source": [
    "- Pandas to_datetime(pd.to_datetime()) Function to Convert DataFrame Column to Pandas Datetime\n",
    "- Use the apply() Method to Convert Pandas DataFrame Column to Datetime\n",
    "- Use the apply() Method to Convert Pandas Multiple Columns to Datetime\n",
    "- Use Series.astype() Method to Convert Pandas DataFrame Column to Datetime\n"
   ]
  },
  {
   "cell_type": "code",
   "execution_count": 81,
   "metadata": {},
   "outputs": [
    {
     "name": "stdout",
     "output_type": "stream",
     "text": [
      "  Alfa Bravo              Datetime\n",
      "A    1     4  04/28/2022, 14:58:23\n",
      "B    2     5  04/27/2022, 14:58:23\n",
      "C    3     6  04/26/2022, 14:58:23\n"
     ]
    }
   ],
   "source": [
    "from datetime import datetime, timedelta\n",
    "from pandas import DataFrame\n",
    "\n",
    "df = DataFrame.from_dict(\n",
    "    {'Alfa': [1, 2, 3],\n",
    "     'Bravo': [4, 5, 6],\n",
    "     'Datetime': [datetime.strftime(datetime.now()-timedelta(days=_),\n",
    "                                    \"%m/%d/%Y, %H:%M:%S\") for _ in range(3)]},\n",
    "    orient='index',\n",
    "    columns=['A', 'B', 'C']).T\n",
    "\n",
    "print(df)\n"
   ]
  },
  {
   "cell_type": "markdown",
   "metadata": {},
   "source": [
    "###  Pandas pd.to_datetime() function converts the given argument to datetime.\n",
    "\n",
    "#### Syntax:\n",
    "\n",
    "pandas.to_datetime(param, format=\"\" , errors =\"\")\n",
    "\n",
    "- The format parameter in the Pandas to_datetime function specifies the pattern of the datetime string.\n",
    "- pd.to_datetime() function doesn’t modify the DataFrame in-place; therefore we need to assign the returned Pandas Series to the specific DataFrame column.\n",
    "\n",
    "- to_datetime() has the errors parameter to specify the behavior if the given input is not a valid datetime string to be parsed.\n",
    "\n",
    "   * raise  -\tAn exception will be raised. Default option\n",
    "\n",
    "   * coerce\t- NaT is set\n",
    "\n",
    "   * ignore\t- invalid parsing returns the input\n",
    "\n",
    "- pandas.to_datetime() function could do the conversion to datetime in a smart way without being given the datetime format string. It will find the string pattern automatically and smartly.\n",
    "\n",
    "- Although pd.to_datetime could do its job without given the format smartly, the conversion speed is much lower than when the format is given.\n",
    "\n",
    "- We could set the option infer_datetime_format of to_datetime to be True to switch the conversion to a faster mode if the format of the datetime string could be inferred without giving the format string.\n",
    "\n",
    "It could increase the parsing speed by 5~6 times."
   ]
  },
  {
   "cell_type": "code",
   "execution_count": 12,
   "metadata": {},
   "outputs": [
    {
     "name": "stdout",
     "output_type": "stream",
     "text": [
      "  Alfa Bravo            Datetime\n",
      "A    1     4 2022-04-28 13:12:41\n",
      "B    2     5 2022-04-27 13:12:41\n",
      "C    3     6 2022-04-26 13:12:41\n"
     ]
    }
   ],
   "source": [
    "df = DataFrame.from_dict(\n",
    "    {'Alfa': [1, 2, 3],\n",
    "     'Bravo': [4, 5, 6],\n",
    "     'Datetime': [datetime.strftime(datetime.now()-timedelta(days=_),\n",
    "                                    \"%m/%d/%Y, %H:%M:%S\") for _ in range(3)]},\n",
    "    orient='index',\n",
    "    columns=['A', 'B', 'C']).T\n",
    "\n",
    "df['Datetime'] = pd.to_datetime(df['Datetime'], format=\"%m/%d/%Y, %H:%M:%S\")\n",
    "\n",
    "print(df)"
   ]
  },
  {
   "cell_type": "code",
   "execution_count": 34,
   "metadata": {},
   "outputs": [
    {
     "name": "stdout",
     "output_type": "stream",
     "text": [
      "  Alfa Bravo            Datetime\n",
      "A    1     4 2022-04-28 13:17:00\n",
      "B    2     5 2022-04-27 13:17:00\n",
      "C    3     6 2022-04-26 13:17:00\n"
     ]
    }
   ],
   "source": [
    "df = DataFrame.from_dict(\n",
    "    {'Alfa': [1, 2, 3],\n",
    "     'Bravo': [4, 5, 6],\n",
    "     'Datetime': [datetime.strftime(datetime.now()-timedelta(days=_),\n",
    "                                    \"%m/%d/%Y, %H:%M:%S\") for _ in range(3)]},\n",
    "    orient='index',\n",
    "    columns=['A', 'B', 'C']).T\n",
    "\n",
    "df['Datetime'] = pd.to_datetime(df['Datetime'])\n",
    "\n",
    "print(df)\n"
   ]
  },
  {
   "cell_type": "code",
   "execution_count": 69,
   "metadata": {},
   "outputs": [
    {
     "name": "stdout",
     "output_type": "stream",
     "text": [
      "  Alfa Bravo            Datetime\n",
      "A    1     4 2022-04-28 13:17:26\n",
      "B    2     5 2022-04-27 13:17:26\n",
      "C    3     6 2022-04-26 13:17:26\n"
     ]
    }
   ],
   "source": [
    "df = DataFrame.from_dict(\n",
    "    {'Alfa': [1, 2, 3],\n",
    "     'Bravo': [4, 5, 6],\n",
    "     'Datetime': [datetime.strftime(datetime.now()-timedelta(days=_),\n",
    "                                    \"%m/%d/%Y, %H:%M:%S\") for _ in range(3)]},\n",
    "    orient='index',\n",
    "    columns=['A', 'B', 'C']).T\n",
    "\n",
    "df['Datetime'] = pd.to_datetime(df['Datetime'], infer_datetime_format=True)\n",
    "\n",
    "print(df)\n"
   ]
  },
  {
   "cell_type": "markdown",
   "metadata": {},
   "source": [
    "### Use the apply() Method to Convert Pandas DataFrame Column to Datetime\n",
    "\n",
    "- apply(func, *args, **kwds)\n",
    "\n",
    "- apply method of Pandas Series applies the function func to each column or row.\n",
    "- We could use the lambda function in the place of func for simplicity."
   ]
  },
  {
   "cell_type": "code",
   "execution_count": 72,
   "metadata": {},
   "outputs": [
    {
     "data": {
      "text/html": [
       "<div><div id=36f96fcf-7d4f-4ea9-9168-11df6b3cced5 style=\"display:none; background-color:#9D6CFF; color:white; width:200px; height:30px; padding-left:5px; border-radius:4px; flex-direction:row; justify-content:space-around; align-items:center;\" onmouseover=\"this.style.backgroundColor='#BA9BF8'\" onmouseout=\"this.style.backgroundColor='#9D6CFF'\" onclick=\"window.commands?.execute('create-mitosheet-from-dataframe-output');\">See Full Dataframe in Mito</div> <script> if (window.commands.hasCommand('create-mitosheet-from-dataframe-output')) document.getElementById('36f96fcf-7d4f-4ea9-9168-11df6b3cced5').style.display = 'flex' </script> <table border=\"1\" class=\"dataframe\">\n",
       "  <thead>\n",
       "    <tr style=\"text-align: right;\">\n",
       "      <th></th>\n",
       "      <th>Alfa</th>\n",
       "      <th>Bravo</th>\n",
       "      <th>Datetime</th>\n",
       "    </tr>\n",
       "  </thead>\n",
       "  <tbody>\n",
       "    <tr>\n",
       "      <th>A</th>\n",
       "      <td>1</td>\n",
       "      <td>4</td>\n",
       "      <td>2022-04-28 14:48:05</td>\n",
       "    </tr>\n",
       "    <tr>\n",
       "      <th>B</th>\n",
       "      <td>2</td>\n",
       "      <td>5</td>\n",
       "      <td>2022-04-27 14:48:05</td>\n",
       "    </tr>\n",
       "    <tr>\n",
       "      <th>C</th>\n",
       "      <td>3</td>\n",
       "      <td>6</td>\n",
       "      <td>2022-04-26 14:48:05</td>\n",
       "    </tr>\n",
       "  </tbody>\n",
       "</table></div>"
      ],
      "text/plain": [
       "  Alfa Bravo            Datetime\n",
       "A    1     4 2022-04-28 14:48:05\n",
       "B    2     5 2022-04-27 14:48:05\n",
       "C    3     6 2022-04-26 14:48:05"
      ]
     },
     "execution_count": 72,
     "metadata": {},
     "output_type": "execute_result"
    }
   ],
   "source": [
    "df['Datetime'] = df['Datetime'].apply(lambda _: datetime.strptime(_,\"%m/%d/%Y, %H:%M:%S\"))\n",
    "           \n",
    "df"
   ]
  },
  {
   "cell_type": "markdown",
   "metadata": {},
   "source": [
    "- If we need to convert Pandas DataFrame multiple columns to datetime, we can still use the apply() method. The function passed to the apply() method is the pd.to_datetime function."
   ]
  },
  {
   "cell_type": "code",
   "execution_count": 73,
   "metadata": {},
   "outputs": [
    {
     "name": "stdout",
     "output_type": "stream",
     "text": [
      "  Alfa Bravo             DatetimeA             DatetimeB\n",
      "A    1     4  04/28/2022, 14:51:27  04/25/2022, 14:51:27\n",
      "B    2     5  04/27/2022, 14:51:27  04/24/2022, 14:51:27\n",
      "C    3     6  04/26/2022, 14:51:27  04/23/2022, 14:51:27\n"
     ]
    }
   ],
   "source": [
    "import pandas as pd\n",
    "from datetime import datetime, timedelta\n",
    "from pandas import DataFrame\n",
    "\n",
    "df = DataFrame.from_dict(\n",
    "    {'Alfa': [1, 2, 3],\n",
    "     'Bravo': [4, 5, 6],\n",
    "     'DatetimeA': [datetime.strftime(datetime.now()-timedelta(days=_),\n",
    "                                     \"%m/%d/%Y, %H:%M:%S\") for _ in range(3)],\n",
    "     'DatetimeB': [datetime.strftime(datetime.now()-timedelta(days=_+3),\n",
    "                                     \"%m/%d/%Y, %H:%M:%S\") for _ in range(3)]},\n",
    "    orient='index',\n",
    "    columns=['A', 'B', 'C']).T\n",
    "\n",
    "print(df)\n"
   ]
  },
  {
   "cell_type": "code",
   "execution_count": 76,
   "metadata": {},
   "outputs": [
    {
     "data": {
      "text/plain": [
       "A   2022-04-28 14:51:27\n",
       "B   2022-04-27 14:51:27\n",
       "C   2022-04-26 14:51:27\n",
       "Name: DatetimeA, dtype: datetime64[ns]"
      ]
     },
     "execution_count": 76,
     "metadata": {},
     "output_type": "execute_result"
    }
   ],
   "source": [
    "df['DatetimeA'] = df['DatetimeA'].apply(lambda _: pd.to_datetime( _ ,format = \"%m/%d/%Y, %H:%M:%S\"))\n",
    "\n",
    "df['DatetimeA']\n"
   ]
  },
  {
   "cell_type": "code",
   "execution_count": 78,
   "metadata": {},
   "outputs": [
    {
     "data": {
      "text/plain": [
       "A   2022-04-25 14:51:27\n",
       "B   2022-04-24 14:51:27\n",
       "C   2022-04-23 14:51:27\n",
       "Name: DatetimeB, dtype: datetime64[ns]"
      ]
     },
     "execution_count": 78,
     "metadata": {},
     "output_type": "execute_result"
    }
   ],
   "source": [
    "df['DatetimeB'] = df['DatetimeB'].apply(lambda _: pd.to_datetime( _ ,format = \"%m/%d/%Y, %H:%M:%S\"))\n",
    "\n",
    "df['DatetimeB']\n"
   ]
  },
  {
   "cell_type": "markdown",
   "metadata": {},
   "source": [
    "- Use Series.astype() Method to Convert Pandas DataFrame Column to Datetime"
   ]
  },
  {
   "cell_type": "markdown",
   "metadata": {},
   "source": [
    "- astype() method of the Pandas Series converts the column to another data type. The data type of the datetime in Pandas is datetime64[ns]; therefore, datetime64[ns] shall be given as the parameter in the astype() method to convert the DataFrame column to datetime."
   ]
  },
  {
   "cell_type": "code",
   "execution_count": 82,
   "metadata": {},
   "outputs": [
    {
     "name": "stdout",
     "output_type": "stream",
     "text": [
      "  Alfa Bravo            Datetime\n",
      "A    1     4 2022-04-28 15:02:05\n",
      "B    2     5 2022-04-27 15:02:05\n",
      "C    3     6 2022-04-26 15:02:05\n"
     ]
    }
   ],
   "source": [
    "import pandas as pd\n",
    "from datetime import datetime, timedelta\n",
    "from pandas import DataFrame\n",
    "\n",
    "df = DataFrame.from_dict(\n",
    "    {'Alfa': [1, 2, 3],\n",
    "     'Bravo': [4, 5, 6],\n",
    "     'Datetime': [datetime.strftime(datetime.now()-timedelta(days=_),\n",
    "                                    \"%m/%d/%Y, %H:%M:%S\") for _ in range(3)]},\n",
    "    orient='index',\n",
    "    columns=['A', 'B', 'C']).T\n",
    "\n",
    "df['Datetime'] = df['Datetime'].astype('datetime64[ns]')\n",
    "\n",
    "print(df)\n"
   ]
  },
  {
   "cell_type": "code",
   "execution_count": null,
   "metadata": {},
   "outputs": [],
   "source": [
    "-"
   ]
  },
  {
   "cell_type": "code",
   "execution_count": null,
   "metadata": {},
   "outputs": [],
   "source": []
  },
  {
   "cell_type": "code",
   "execution_count": 3,
   "metadata": {},
   "outputs": [
    {
     "name": "stdout",
     "output_type": "stream",
     "text": [
      "['04/28/2022, 13:04:26', '04/27/2022, 13:04:26', '04/26/2022, 13:04:26']\n"
     ]
    }
   ],
   "source": [
    "\n",
    "x = [datetime.strftime(datetime.now()-timedelta(days=_),\n",
    "                       \"%m/%d/%Y, %H:%M:%S\") for _ in range(3)]\n",
    "\n",
    "print(x)\n"
   ]
  },
  {
   "cell_type": "code",
   "execution_count": 8,
   "metadata": {},
   "outputs": [],
   "source": [
    "df = DataFrame.from_dict(\n",
    "    {'Alfa': [1, 2, 3],\n",
    "     'Bravo': [4, 5, 6],\n",
    "     'DatetimeA': [datetime.strftime(datetime.now()-timedelta(days=_),\n",
    "                                     \"%m/%d/%Y, %H:%M:%S\") for _ in range(3)],\n",
    "     'DatetimeB': [datetime.strftime(datetime.now()-timedelta(days=_+3),\n",
    "                                     \"%m/%d/%Y, %H:%M:%S\") for _ in range(3)]},\n",
    "    orient='index',\n",
    "    columns=['A', 'B', 'C']).T\n"
   ]
  },
  {
   "cell_type": "code",
   "execution_count": 9,
   "metadata": {},
   "outputs": [
    {
     "data": {
      "text/html": [
       "<div><div id=bdb653c3-4037-42b9-ab60-1dab659097a4 style=\"display:none; background-color:#9D6CFF; color:white; width:200px; height:30px; padding-left:5px; border-radius:4px; flex-direction:row; justify-content:space-around; align-items:center;\" onmouseover=\"this.style.backgroundColor='#BA9BF8'\" onmouseout=\"this.style.backgroundColor='#9D6CFF'\" onclick=\"window.commands?.execute('create-mitosheet-from-dataframe-output');\">See Full Dataframe in Mito</div> <script> if (window.commands.hasCommand('create-mitosheet-from-dataframe-output')) document.getElementById('bdb653c3-4037-42b9-ab60-1dab659097a4').style.display = 'flex' </script> <table border=\"1\" class=\"dataframe\">\n",
       "  <thead>\n",
       "    <tr style=\"text-align: right;\">\n",
       "      <th></th>\n",
       "      <th>Alfa</th>\n",
       "      <th>Bravo</th>\n",
       "      <th>DatetimeA</th>\n",
       "      <th>DatetimeB</th>\n",
       "    </tr>\n",
       "  </thead>\n",
       "  <tbody>\n",
       "    <tr>\n",
       "      <th>A</th>\n",
       "      <td>1</td>\n",
       "      <td>4</td>\n",
       "      <td>04/28/2022, 13:07:03</td>\n",
       "      <td>04/25/2022, 13:07:03</td>\n",
       "    </tr>\n",
       "    <tr>\n",
       "      <th>B</th>\n",
       "      <td>2</td>\n",
       "      <td>5</td>\n",
       "      <td>04/27/2022, 13:07:03</td>\n",
       "      <td>04/24/2022, 13:07:03</td>\n",
       "    </tr>\n",
       "    <tr>\n",
       "      <th>C</th>\n",
       "      <td>3</td>\n",
       "      <td>6</td>\n",
       "      <td>04/26/2022, 13:07:03</td>\n",
       "      <td>04/23/2022, 13:07:03</td>\n",
       "    </tr>\n",
       "  </tbody>\n",
       "</table></div>"
      ],
      "text/plain": [
       "  Alfa Bravo             DatetimeA             DatetimeB\n",
       "A    1     4  04/28/2022, 13:07:03  04/25/2022, 13:07:03\n",
       "B    2     5  04/27/2022, 13:07:03  04/24/2022, 13:07:03\n",
       "C    3     6  04/26/2022, 13:07:03  04/23/2022, 13:07:03"
      ]
     },
     "execution_count": 9,
     "metadata": {},
     "output_type": "execute_result"
    }
   ],
   "source": [
    "df"
   ]
  }
 ],
 "metadata": {
  "interpreter": {
   "hash": "a29e1fb6683002b636560db254076994f59567f0270ab4cc0d58f0bc21ebc82f"
  },
  "kernelspec": {
   "display_name": "Python 3.10.2 64-bit",
   "language": "python",
   "name": "python3"
  },
  "language_info": {
   "codemirror_mode": {
    "name": "ipython",
    "version": 3
   },
   "file_extension": ".py",
   "mimetype": "text/x-python",
   "name": "python",
   "nbconvert_exporter": "python",
   "pygments_lexer": "ipython3",
   "version": "3.10.2"
  },
  "orig_nbformat": 4
 },
 "nbformat": 4,
 "nbformat_minor": 2
}
