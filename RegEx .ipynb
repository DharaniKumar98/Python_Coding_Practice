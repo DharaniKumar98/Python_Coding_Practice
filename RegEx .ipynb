{
 "cells": [
  {
   "cell_type": "markdown",
   "id": "5e3e876f",
   "metadata": {},
   "source": [
    "RegEx - Sequence of characters which define a search pattern\n",
    "--"
   ]
  },
  {
   "cell_type": "markdown",
   "id": "5fe00208",
   "metadata": {},
   "source": [
    "A pattern defined using RegEx can be used to match a string"
   ]
  },
  {
   "cell_type": "code",
   "execution_count": 30,
   "id": "e5d3b392",
   "metadata": {
    "scrolled": true
   },
   "outputs": [],
   "source": [
    "import re\n",
    "\n",
    "# re.match(pattern,string)\n",
    "# re.findall()\n",
    "# re.split()\n",
    "# re.sub() - re.sub(pattern, replace, string) \n",
    "# re.subn()\n",
    "# re.search()"
   ]
  },
  {
   "cell_type": "code",
   "execution_count": 106,
   "id": "efc250a2",
   "metadata": {
    "scrolled": true
   },
   "outputs": [
    {
     "name": "stdout",
     "output_type": "stream",
     "text": [
      "<re.Match object; span=(0, 2), match='ab'>\n",
      "True\n",
      "Found\n"
     ]
    }
   ],
   "source": [
    "pattern  = '^a...s$'\n",
    "\n",
    "pattern2 = '..'\n",
    "\n",
    "test_string = 'abyss'\n",
    "\n",
    "result = re.match(pattern2 , test_string) # using re.match function to search pattern within test_string , this function returns \n",
    "                                        # a match object if search is successful else it returns None\n",
    "\n",
    "print(result)\n",
    "\n",
    "print(bool(result))\n",
    "\n",
    "if result:\n",
    "    print('Found')\n",
    "else :\n",
    "    print('No Results')"
   ]
  },
  {
   "cell_type": "markdown",
   "id": "d11e7599",
   "metadata": {},
   "source": [
    "# Basics of RegEx\n"
   ]
  },
  {
   "cell_type": "markdown",
   "id": "3f7e34a9",
   "metadata": {},
   "source": [
    "Metacharacters \n",
    "----\n",
    "\n",
    "Regular Expressions are written with use of Metacharacters (like ^ ,$)\n",
    "\n",
    "-> Regex Engine\n",
    "\n",
    "Metacharacters are characters that are interpreted in a special way by a RegEx Engine\n",
    "\n",
    "list of RegEx : [].^$*+?{}()\\|\n"
   ]
  },
  {
   "cell_type": "markdown",
   "id": "bc00c117",
   "metadata": {},
   "source": [
    "# list of RegEx : [].^$*+?{}()\\|"
   ]
  },
  {
   "cell_type": "raw",
   "id": "389d9a32",
   "metadata": {},
   "source": [
    "-> [] - Square Brackets specify set of characters to be matched\n",
    "\n",
    "Example :  \n",
    "\n",
    "pattern - [abc]\n",
    "\n",
    "Here [abc] will match if string contains any of the a,b or c \n",
    "\n",
    "Matches - a ,ac , 'abc cd adce'\n",
    "\n",
    "Not match - Hello\n",
    "\n",
    "-> we can also provide a range of characters  using - inside square brackets\n",
    "\n",
    "Examples :\n",
    "[a-e] - abcde\n",
    "[1-5] - 12345\n",
    "\n",
    "[a-z]\n",
    "[A-Z]\n",
    "[0-9]\n",
    "\n",
    "[a-zA-Z0-9]\n",
    "\n",
    "-> we can complement(invert) the character set by using caret(^) symbol at the start of a square-bracket.\n",
    "\n",
    "Examples :\n",
    "\n",
    "[^abc] - means any character except a or b or c\n",
    "\n",
    "[^0-9] - any non-digit character\n"
   ]
  },
  {
   "cell_type": "raw",
   "id": "f6c430ff",
   "metadata": {},
   "source": [
    ". -> period , matches any single character (except newline '\\n')\n",
    "\n",
    "Examples :\n",
    "\n",
    "pattern = '..'\n",
    "\n",
    "a\t No match\n",
    "ac\t 1 match\n",
    "acd\t 1 match\n",
    "acde 2 matches (contains 4 characters)\n"
   ]
  },
  {
   "cell_type": "raw",
   "id": "bb92a2e5",
   "metadata": {},
   "source": [
    "^ -> caret symbol is used to check if a string starts with a certain character.\n",
    "\n",
    "Exapmle:\n",
    "    \n",
    "pattern = '^a'\n",
    "\n",
    "a 1 match\n",
    "abc 1 match\n",
    "bac No match"
   ]
  },
  {
   "cell_type": "raw",
   "id": "3c671b80",
   "metadata": {},
   "source": [
    "$ -> dollar is used to check if a string ends with a certain character.\n",
    "\n",
    "pattern - 'a$'\n",
    "\n",
    "a\t    1 match\n",
    "formula\t1 match\n",
    "cab\t    No match"
   ]
  },
  {
   "cell_type": "raw",
   "id": "750d24e4",
   "metadata": {},
   "source": [
    "* - star symbol matches zero or more occurrences of the pattern left to it."
   ]
  },
  {
   "cell_type": "raw",
   "id": "cef5b1e0",
   "metadata": {},
   "source": [
    "+ - plus symbol matches one or more occurrences of the pattern left to it."
   ]
  },
  {
   "cell_type": "raw",
   "id": "11f11183",
   "metadata": {},
   "source": [
    "? - question mark matches zero or one occurrence of the pattern left to it."
   ]
  },
  {
   "cell_type": "code",
   "execution_count": null,
   "id": "12f16362",
   "metadata": {
    "scrolled": true
   },
   "outputs": [],
   "source": [
    "{} - Braces\n",
    "\n",
    "Consider this code: {n,m}. This means at least n, and at most m repetitions of the pattern left to it.\n",
    "    \n",
    "\n",
    "Example :\n",
    "    \n",
    "pattern - a{2,3}\n",
    "\n",
    "abc dat     No match\n",
    "abc daat    1 match (at daat)\n",
    "aabc daaat  2 matches (at aabc and daaat)\n",
    "aabc daaaat 2 matches (at aabc and daaaat)"
   ]
  },
  {
   "cell_type": "raw",
   "id": "6ad9a521",
   "metadata": {},
   "source": [
    "| - Alternation\n",
    "\n",
    "Vertical bar | is used for alternation (or operator)."
   ]
  },
  {
   "cell_type": "raw",
   "id": "349bde92",
   "metadata": {},
   "source": [
    "() - Group \n",
    "\n",
    "parentheses () is used to group sub-patterns. \n",
    "\n",
    "For example, (a|b|c)xz match any string that matches either a or b or c followed by xz"
   ]
  },
  {
   "cell_type": "raw",
   "id": "d1777865",
   "metadata": {},
   "source": [
    "\\ - Backslash\n",
    "\n",
    "Backlash \\ is used to escape various characters including all metacharacters. \n",
    "\n",
    "For example,\n",
    "\n",
    "\\$a match if a string contains $ followed by a. Here, $ is not interpreted by a RegEx engine in a special way.\n",
    "\n",
    "If you are unsure if a character has special meaning or not, you can put \\ in front of it. This makes sure the character is not treated in a special way.\n",
    "\n"
   ]
  },
  {
   "cell_type": "code",
   "execution_count": null,
   "id": "9a155b5f",
   "metadata": {
    "scrolled": true
   },
   "outputs": [],
   "source": []
  },
  {
   "cell_type": "markdown",
   "id": "d058efb9",
   "metadata": {},
   "source": [
    "# Special Sequences"
   ]
  },
  {
   "cell_type": "raw",
   "id": "b761f28d",
   "metadata": {},
   "source": [
    "Special sequences make commonly used patterns easier to write.\n",
    "\n",
    "\\A - Matches if the specified characters are at the start of a string\n",
    "\\Z - Matches if the specified characters are at the end of a string.\n",
    "\n",
    "\\b - Matches if the specified characters are at the beginning or end of a word.\n",
    "\\B - Opposite of \\b. Matches if the specified characters are not at the beginning or end of a word.\n",
    "\n",
    "\\d - Matches any decimal digit. Equivalent to [0-9]\n",
    "\\D - Matches any non-decimal digit. Equivalent to [^0-9]\n",
    "\n",
    "\\s - Matches where a string contains any whitespace character. Equivalent to [ \\t\\n\\r\\f\\v].\n",
    "\\S - Matches where a string contains any non-whitespace character. Equivalent to [^ \\t\\n\\r\\f\\v].\n",
    "\n",
    "\\w - Matches any alphanumeric character (digits and alphabets). Equivalent to [a-zA-Z0-9_]. By the way, underscore _ is also considered an alphanumeric character.\n",
    "\\W - Matches any non-alphanumeric character. Equivalent to [^a-zA-Z0-9_]\n"
   ]
  },
  {
   "cell_type": "raw",
   "id": "7f96070c",
   "metadata": {},
   "source": [
    "\\A - Matches if the specified characters are at the start of a string\n",
    "\n",
    "Example :\n",
    "    \n",
    "pattern = \\Athe\n",
    "\n",
    "the sun    Match\n",
    "In the sun No match\n"
   ]
  },
  {
   "cell_type": "code",
   "execution_count": null,
   "id": "b84cdeb7",
   "metadata": {},
   "outputs": [],
   "source": [
    "\\b - Matches if the specified characters are at the beginning or end of a word.\n",
    "\n",
    "Examples : \n",
    "    \n",
    "pattern : \\bfoo\n",
    "\n",
    "football    Match\n",
    "a football  Match\n",
    "afootball   No match\n",
    "\n",
    "\n",
    "pattern : foo\\b\n",
    "    \n",
    "the foo         Match\n",
    "the afoo test   Match\n",
    "the afootest    No match"
   ]
  },
  {
   "cell_type": "raw",
   "id": "f4f29d72",
   "metadata": {},
   "source": [
    "\\B - Opposite of \\b. Matches if the specified characters are not at the beginning or end of a word.\n",
    "\n",
    "Examples : \n",
    "    \n",
    "pattern :  \\Bfoo\t\n",
    "\n",
    "football\tNo match\n",
    "a football\tNo match\n",
    "afootball\tMatch\n",
    "\n",
    "pattern :foo\\B\n",
    "\n",
    "the foo\t        No match\n",
    "the afoo test\tNo match\n",
    "the afootest\tMatch"
   ]
  },
  {
   "cell_type": "code",
   "execution_count": null,
   "id": "d135c22b",
   "metadata": {},
   "outputs": [],
   "source": [
    "\\d - Matches any decimal digit. Equivalent to [0-9]\n",
    "\n",
    "Examples : \n",
    "    \n",
    "pattern : \\d\n",
    "\n",
    "12abc3      3 matches (at 1,2,3)\n",
    "Python      No match"
   ]
  },
  {
   "cell_type": "raw",
   "id": "c8ae54c4",
   "metadata": {},
   "source": [
    "\\D - Matches any non-decimal digit. Equivalent to [^0-9]\n",
    "\n",
    "Examples : \n",
    "    \n",
    "pattern :\\D\n",
    "1ab34\"50   3 matches (at a,b,\")\n",
    "1345       No match"
   ]
  },
  {
   "cell_type": "code",
   "execution_count": null,
   "id": "e40c66a2",
   "metadata": {},
   "outputs": [],
   "source": [
    "\\s - Matches where a string contains any whitespace character. Equivalent to [ \\t\\n\\r\\f\\v].\n",
    "\n",
    "Examples : \n",
    "    \n",
    "pattern :\\s\n",
    "    \n",
    "Python RegEx 1 match\n",
    "PythonRegEx  No match\n"
   ]
  },
  {
   "cell_type": "code",
   "execution_count": null,
   "id": "2e7c8ce2",
   "metadata": {},
   "outputs": [],
   "source": [
    "\\S - Matches where a string contains any non-whitespace character. Equivalent to [^ \\t\\n\\r\\f\\v]."
   ]
  },
  {
   "cell_type": "raw",
   "id": "602703ed",
   "metadata": {},
   "source": [
    "\\w - Matches any alphanumeric character (digits and alphabets). Equivalent to [a-zA-Z0-9_]. Underscore _ is also considered an alphanumeric character.\n",
    "\n",
    "Examples : \n",
    "    \n",
    "pattern :\\w\n",
    "\n",
    "\n",
    "12&\": ;c \t3 matches (at 1,2,c)\n",
    "%\"> !\t    No match"
   ]
  },
  {
   "cell_type": "code",
   "execution_count": null,
   "id": "1bf5fc5e",
   "metadata": {},
   "outputs": [],
   "source": [
    "\\W - Matches any non-alphanumeric character. Equivalent to [^a-zA-Z0-9_]\n",
    "\n",
    "Examples : \n",
    "    \n",
    "pattern :\\W\n",
    "\n",
    "1a2%c   1 match (at %)\n",
    "Python  No match"
   ]
  },
  {
   "cell_type": "code",
   "execution_count": null,
   "id": "2541750e",
   "metadata": {},
   "outputs": [],
   "source": [
    "\\Z - Matches if the specified characters are at the end of a string.\n",
    "\n",
    "Examples : \n",
    "    \n",
    "pattern :Python\\Z\n",
    "\n",
    "I like Python               1 match\n",
    "I like Python Programming   No match\n",
    "Python is fun.              No match"
   ]
  },
  {
   "cell_type": "code",
   "execution_count": 53,
   "id": "ce886833",
   "metadata": {
    "scrolled": false
   },
   "outputs": [],
   "source": [
    "# !pip list -v"
   ]
  },
  {
   "cell_type": "markdown",
   "id": "86518b35",
   "metadata": {},
   "source": [
    "# Python RegEx"
   ]
  },
  {
   "cell_type": "code",
   "execution_count": null,
   "id": "e401dade",
   "metadata": {
    "scrolled": true
   },
   "outputs": [],
   "source": [
    "re.findall() method returns a list of strings containing all matches.\n",
    "If the pattern is not found, re.findall() returns an empty list.\n",
    "\n",
    "re.split()\n",
    "The re.split method splits the string where there is a match and returns a list of strings where the splits have occurred.\n",
    "\n",
    "re.sub()\n",
    "The method returns a string where matched occurrences are replaced with the content of replace variable.\n",
    "\n",
    "re.subn()\n",
    "The re.subn() is similar to re.sub() except it returns a tuple of 2 items containing the new string and the number of substitutions made.\n",
    "\n",
    "re.search()\n",
    "The re.search() method takes two arguments: a pattern and a string. The method looks for the first location where the RegEx pattern produces a match with the string.\n",
    "\n",
    "If the search is successful, re.search() returns a match object; if not, it returns None."
   ]
  },
  {
   "cell_type": "code",
   "execution_count": null,
   "id": "14aa5c05",
   "metadata": {
    "scrolled": true
   },
   "outputs": [],
   "source": []
  },
  {
   "cell_type": "code",
   "execution_count": 114,
   "id": "b8cd5bf6",
   "metadata": {},
   "outputs": [
    {
     "name": "stdout",
     "output_type": "stream",
     "text": [
      "['1', '23', '89', '34']\n"
     ]
    }
   ],
   "source": [
    "# re.findall() method returns a list of strings containing all matches.\n",
    "# If the pattern is not found, re.findall() returns an empty list.\n",
    "\n",
    "\n",
    "string = 'hello1   23 hi 89. Howdy 34'\n",
    "pattern = '\\d+'\n",
    "\n",
    "result = re.findall(pattern, string) \n",
    "print(result)\n",
    "\n",
    "# Output: ['12', '89', '34']"
   ]
  },
  {
   "cell_type": "code",
   "execution_count": null,
   "id": "92fadd42",
   "metadata": {},
   "outputs": [],
   "source": []
  },
  {
   "cell_type": "code",
   "execution_count": 116,
   "id": "d5a4efb5",
   "metadata": {},
   "outputs": [
    {
     "name": "stdout",
     "output_type": "stream",
     "text": [
      "['Twelve:', ' Eighty nine:', '.']\n"
     ]
    }
   ],
   "source": [
    "# re.split()\n",
    "# The re.split method splits the string where there is a match and returns a list of strings where the splits have occurred.\n",
    "# If the pattern is not found, re.split() returns a list containing the original string.\n",
    "\n",
    "# We can pass maxsplit argument to the re.split() method. It's the maximum number of splits that will occur.\n",
    "# By the way, the default value of maxsplit is 0; meaning all possible splits.\n",
    "\n",
    "string = 'Twelve:12 Eighty nine:89.'\n",
    "pattern = '\\d+'\n",
    "\n",
    "result = re.split(pattern, string) \n",
    "print(result)\n",
    "\n",
    "# Output: ['Twelve:', ' Eighty nine:', '.']\n"
   ]
  },
  {
   "cell_type": "code",
   "execution_count": 65,
   "id": "a8189880",
   "metadata": {},
   "outputs": [
    {
     "name": "stdout",
     "output_type": "stream",
     "text": [
      "['Twelve:', ' Eighty nine:89 Nine:9.']\n"
     ]
    }
   ],
   "source": [
    "\n",
    "string = 'Twelve:12 Eighty nine:89 Nine:9.'\n",
    "pattern = '\\d+'\n",
    "\n",
    "# maxsplit = 1\n",
    "# split only at the first occurrence\n",
    "result = re.split(pattern, string, 1) \n",
    "print(result)\n",
    "\n",
    "# Output: ['Twelve:', ' Eighty nine:89 Nine:9.'"
   ]
  },
  {
   "cell_type": "code",
   "execution_count": null,
   "id": "e1c2e48c",
   "metadata": {},
   "outputs": [],
   "source": []
  },
  {
   "cell_type": "code",
   "execution_count": 76,
   "id": "27f3d883",
   "metadata": {},
   "outputs": [
    {
     "name": "stdout",
     "output_type": "stream",
     "text": [
      "abc12de23f456\n"
     ]
    }
   ],
   "source": [
    "# re.sub()\n",
    "# The method returns a string where matched occurrences are replaced with the content of replace variable.\n",
    "#If the pattern is not found, re.sub() returns the original string.\n",
    "\n",
    "# You can pass count as a fourth parameter to the re.sub() method. If omited, it results to 0. This will replace all occurrences.\n",
    "\n",
    "\n",
    "#Program to remove all whitespaces\n",
    "# multiline string\n",
    "string = 'abc 12\\\n",
    "de 23 \\n f45 6'\n",
    "\n",
    "strinff = 'adsfkjsad \\dfdfasdf ffds   fdfdf fdsfd \\n sdfsdfa'\n",
    "# matches all whitespace characters\n",
    "pattern = '\\s+'\n",
    "\n",
    "# empty string\n",
    "replace = ''\n",
    "\n",
    "new_string = re.sub(pattern, replace, string) \n",
    "print(new_string)\n",
    "\n",
    "# Output: abc12de23f456"
   ]
  },
  {
   "cell_type": "code",
   "execution_count": 79,
   "id": "e51c4d7e",
   "metadata": {},
   "outputs": [
    {
     "name": "stdout",
     "output_type": "stream",
     "text": [
      "abc12de 23 \n",
      " f45 6\n"
     ]
    }
   ],
   "source": [
    "# multiline string\n",
    "string = 'abc 12\\\n",
    "de 23 \\n f45 6'\n",
    "\n",
    "# matches all whitespace characters\n",
    "pattern = '\\s+'\n",
    "replace = ''\n",
    "\n",
    "new_string = re.sub(r'\\s+', replace, string, 1) \n",
    "print(new_string)\n"
   ]
  },
  {
   "cell_type": "code",
   "execution_count": null,
   "id": "06da207a",
   "metadata": {},
   "outputs": [],
   "source": []
  },
  {
   "cell_type": "code",
   "execution_count": null,
   "id": "36aade08",
   "metadata": {},
   "outputs": [],
   "source": [
    "# re.subn()\n",
    "# The re.subn() is similar to re.sub() except it returns a tuple of 2 items containing \n",
    "# the new string and the number of substitutions made.\n",
    "\n",
    "\n",
    "# Program to remove all whitespaces\n",
    "import re\n",
    "\n",
    "# multiline string\n",
    "string = 'abc 12\\\n",
    "de 23 \\n f45 6'\n",
    "\n",
    "# matches all whitespace characters\n",
    "pattern = '\\s+'\n",
    "\n",
    "# empty string\n",
    "replace = ''\n",
    "\n",
    "new_string = re.subn(pattern, replace, string) \n",
    "print(new_string)\n",
    "\n",
    "# Output: ('abc12de23f456', 4)"
   ]
  },
  {
   "cell_type": "code",
   "execution_count": null,
   "id": "28ee9209",
   "metadata": {},
   "outputs": [],
   "source": []
  },
  {
   "cell_type": "code",
   "execution_count": 84,
   "id": "89a203ac",
   "metadata": {},
   "outputs": [
    {
     "name": "stdout",
     "output_type": "stream",
     "text": [
      "pattern found inside the string\n"
     ]
    }
   ],
   "source": [
    "# re.search()\n",
    "# The re.search() method takes two arguments: a pattern and a string. The method looks for the first location where\n",
    "# the RegEx pattern produces a match with the string.\n",
    "\n",
    "# If the search is successful, re.search() returns a match object; if not, it returns None.\n",
    "\n",
    "\n",
    "string = \"Python is fun\"\n",
    "\n",
    "# check if 'Python' is at the beginning\n",
    "match = re.search('\\APython', string)\n",
    "\n",
    "if match:\n",
    "  print(\"pattern found inside the string\")\n",
    "else:\n",
    "  print(\"pattern not found\")\n",
    "\n",
    "#Here, match contains a match object."
   ]
  },
  {
   "cell_type": "code",
   "execution_count": 85,
   "id": "45151736",
   "metadata": {},
   "outputs": [
    {
     "data": {
      "text/plain": [
       "['__class__',\n",
       " '__class_getitem__',\n",
       " '__copy__',\n",
       " '__deepcopy__',\n",
       " '__delattr__',\n",
       " '__dir__',\n",
       " '__doc__',\n",
       " '__eq__',\n",
       " '__format__',\n",
       " '__ge__',\n",
       " '__getattribute__',\n",
       " '__getitem__',\n",
       " '__gt__',\n",
       " '__hash__',\n",
       " '__init__',\n",
       " '__init_subclass__',\n",
       " '__le__',\n",
       " '__lt__',\n",
       " '__ne__',\n",
       " '__new__',\n",
       " '__reduce__',\n",
       " '__reduce_ex__',\n",
       " '__repr__',\n",
       " '__setattr__',\n",
       " '__sizeof__',\n",
       " '__str__',\n",
       " '__subclasshook__',\n",
       " 'end',\n",
       " 'endpos',\n",
       " 'expand',\n",
       " 'group',\n",
       " 'groupdict',\n",
       " 'groups',\n",
       " 'lastgroup',\n",
       " 'lastindex',\n",
       " 'pos',\n",
       " 're',\n",
       " 'regs',\n",
       " 'span',\n",
       " 'start',\n",
       " 'string']"
      ]
     },
     "execution_count": 85,
     "metadata": {},
     "output_type": "execute_result"
    }
   ],
   "source": [
    "dir(match)"
   ]
  },
  {
   "cell_type": "code",
   "execution_count": null,
   "id": "a199dcfc",
   "metadata": {},
   "outputs": [],
   "source": []
  },
  {
   "cell_type": "code",
   "execution_count": null,
   "id": "4d432c70",
   "metadata": {},
   "outputs": [],
   "source": [
    "# Match object\n",
    "# You can get methods and attributes of a match object using dir() function.\n",
    "\n",
    "# Some of the commonly used methods and attributes of match objects are:\n",
    "\n",
    "# match.group()\n",
    "# The group() method returns the part of the string where there is a match."
   ]
  },
  {
   "cell_type": "code",
   "execution_count": 104,
   "id": "c5019d73",
   "metadata": {},
   "outputs": [
    {
     "name": "stdout",
     "output_type": "stream",
     "text": [
      "801 35\n"
     ]
    }
   ],
   "source": [
    "\n",
    "string = '39801 356, 2102 1111'\n",
    "\n",
    "# Three digit number followed by space followed by two digit number\n",
    "pattern = '(\\d{3}) (\\d{2})'\n",
    "\n",
    "# match variable contains a Match object.\n",
    "match = re.search(pattern, string) \n",
    "\n",
    "if match:\n",
    "  print(match.group())\n",
    "else:\n",
    "  print(\"pattern not found\")"
   ]
  },
  {
   "cell_type": "code",
   "execution_count": null,
   "id": "0c89ae57",
   "metadata": {},
   "outputs": [],
   "source": []
  },
  {
   "cell_type": "code",
   "execution_count": null,
   "id": "1e984a47",
   "metadata": {},
   "outputs": [],
   "source": []
  },
  {
   "cell_type": "code",
   "execution_count": null,
   "id": "48508462",
   "metadata": {},
   "outputs": [],
   "source": []
  },
  {
   "cell_type": "code",
   "execution_count": 78,
   "id": "985c2427",
   "metadata": {},
   "outputs": [
    {
     "name": "stdout",
     "output_type": "stream",
     "text": [
      "adsfk   jsadfdfasdf ffds   fdfdf fdsfd \n",
      " sdfsdfa\n"
     ]
    }
   ],
   "source": [
    "dd= 'adsfk   jsad\\\n",
    "fdfasdf ffds   fdfdf fdsfd \\n sdfsdfa'\n",
    "print(dd)"
   ]
  },
  {
   "cell_type": "code",
   "execution_count": null,
   "id": "f08d8a35",
   "metadata": {},
   "outputs": [],
   "source": []
  },
  {
   "cell_type": "code",
   "execution_count": null,
   "id": "3f820faf",
   "metadata": {},
   "outputs": [],
   "source": []
  },
  {
   "cell_type": "code",
   "execution_count": null,
   "id": "8068e3e7",
   "metadata": {},
   "outputs": [],
   "source": []
  },
  {
   "cell_type": "markdown",
   "id": "57f11be1",
   "metadata": {},
   "source": [
    "Using r prefix before RegEx\n",
    "\n",
    "When r or R prefix is used before a regular expression, it means raw string. For example, '\\n' is a new line whereas r'\\n' means two characters: a backslash \\ followed by n.\n",
    "\n",
    "Backlash \\ is used to escape various characters including all metacharacters. However, using r prefix makes \\ treat as a normal character."
   ]
  },
  {
   "cell_type": "code",
   "execution_count": 2,
   "id": "e24b9b22",
   "metadata": {
    "scrolled": true
   },
   "outputs": [
    {
     "data": {
      "text/plain": [
       "3"
      ]
     },
     "execution_count": 2,
     "metadata": {},
     "output_type": "execute_result"
    }
   ],
   "source": [
    "1+2"
   ]
  },
  {
   "cell_type": "code",
   "execution_count": 5,
   "id": "b21bed95",
   "metadata": {
    "scrolled": true
   },
   "outputs": [
    {
     "data": {
      "text/plain": [
       "3"
      ]
     },
     "execution_count": 5,
     "metadata": {},
     "output_type": "execute_result"
    }
   ],
   "source": [
    "1+2"
   ]
  },
  {
   "cell_type": "code",
   "execution_count": 6,
   "id": "84e7c675",
   "metadata": {
    "scrolled": true
   },
   "outputs": [
    {
     "data": {
      "text/plain": [
       "4"
      ]
     },
     "execution_count": 6,
     "metadata": {},
     "output_type": "execute_result"
    }
   ],
   "source": [
    "2+2"
   ]
  },
  {
   "cell_type": "code",
   "execution_count": 28,
   "id": "939627b3",
   "metadata": {
    "scrolled": true
   },
   "outputs": [
    {
     "name": "stdout",
     "output_type": "stream",
     "text": [
      "\n",
      "[]\n"
     ]
    },
    {
     "data": {
      "text/plain": [
       "0"
      ]
     },
     "execution_count": 28,
     "metadata": {},
     "output_type": "execute_result"
    }
   ],
   "source": [
    "def sum(myList):\n",
    "    result =0\n",
    "    for i in myList:\n",
    "        result += i\n",
    "    return result\n",
    "\n",
    "myList=[]\n",
    "while True:\n",
    "    val = input()\n",
    "    if val == \"\":\n",
    "        break\n",
    "    myList.append(int(val))\n",
    "print(myList)\n",
    "\n",
    "sum(myList)"
   ]
  },
  {
   "cell_type": "code",
   "execution_count": null,
   "id": "7fc5261b",
   "metadata": {
    "scrolled": true
   },
   "outputs": [],
   "source": [
    "for "
   ]
  },
  {
   "cell_type": "code",
   "execution_count": 46,
   "id": "0f885683",
   "metadata": {
    "scrolled": true
   },
   "outputs": [
    {
     "name": "stdout",
     "output_type": "stream",
     "text": [
      "71\n"
     ]
    }
   ],
   "source": [
    "sul = lambda l:sum(l)\n",
    "\n",
    "print(sul([1,2,23,45]))"
   ]
  },
  {
   "cell_type": "code",
   "execution_count": 48,
   "id": "8f1ae3ae",
   "metadata": {
    "scrolled": true
   },
   "outputs": [
    {
     "name": "stdout",
     "output_type": "stream",
     "text": [
      "5\n"
     ]
    }
   ],
   "source": [
    "sula = lambda *args:args[0]+args[1]\n",
    "\n",
    "print(sula(2,3))"
   ]
  },
  {
   "cell_type": "code",
   "execution_count": 37,
   "id": "d0a8f0ed",
   "metadata": {
    "scrolled": true
   },
   "outputs": [
    {
     "name": "stdout",
     "output_type": "stream",
     "text": [
      "9\n"
     ]
    }
   ],
   "source": [
    "lm = lambda x:x+2\n",
    "\n",
    "print(lm(7))"
   ]
  },
  {
   "cell_type": "code",
   "execution_count": 39,
   "id": "14fa4166",
   "metadata": {
    "scrolled": true
   },
   "outputs": [
    {
     "name": "stdout",
     "output_type": "stream",
     "text": [
      "False\n"
     ]
    }
   ],
   "source": [
    "eOo = lambda x:True if x%2 == 0 else False\n",
    "\n",
    "print(eOo(7))"
   ]
  },
  {
   "cell_type": "code",
   "execution_count": 44,
   "id": "34b34aaa",
   "metadata": {
    "scrolled": true
   },
   "outputs": [
    {
     "name": "stdout",
     "output_type": "stream",
     "text": [
      "8\n"
     ]
    }
   ],
   "source": [
    "cu = lambda x:x**3\n",
    "\n",
    "print(cu(2))"
   ]
  },
  {
   "cell_type": "code",
   "execution_count": 45,
   "id": "914a0c45",
   "metadata": {
    "scrolled": true
   },
   "outputs": [
    {
     "name": "stdout",
     "output_type": "stream",
     "text": [
      "5\n"
     ]
    }
   ],
   "source": [
    "su = lambda x,y : x+y\n",
    "\n",
    "print(su(2,3))"
   ]
  },
  {
   "cell_type": "code",
   "execution_count": 59,
   "id": "5738c604",
   "metadata": {},
   "outputs": [],
   "source": [
    "import seaborn as sns"
   ]
  },
  {
   "cell_type": "code",
   "execution_count": 61,
   "id": "c4588643",
   "metadata": {},
   "outputs": [
    {
     "data": {
      "text/plain": [
       "['anagrams',\n",
       " 'anscombe',\n",
       " 'attention',\n",
       " 'brain_networks',\n",
       " 'car_crashes',\n",
       " 'diamonds',\n",
       " 'dots',\n",
       " 'exercise',\n",
       " 'flights',\n",
       " 'fmri',\n",
       " 'gammas',\n",
       " 'geyser',\n",
       " 'iris',\n",
       " 'mpg',\n",
       " 'penguins',\n",
       " 'planets',\n",
       " 'taxis',\n",
       " 'tips',\n",
       " 'titanic']"
      ]
     },
     "execution_count": 61,
     "metadata": {},
     "output_type": "execute_result"
    }
   ],
   "source": [
    "sns.get_dataset_names()"
   ]
  },
  {
   "cell_type": "code",
   "execution_count": null,
   "id": "e87bf956",
   "metadata": {},
   "outputs": [],
   "source": []
  },
  {
   "cell_type": "code",
   "execution_count": null,
   "id": "9be560fa",
   "metadata": {},
   "outputs": [],
   "source": []
  }
 ],
 "metadata": {
  "kernelspec": {
   "display_name": "Python 3 (ipykernel)",
   "language": "python",
   "name": "python3"
  },
  "language_info": {
   "codemirror_mode": {
    "name": "ipython",
    "version": 3
   },
   "file_extension": ".py",
   "mimetype": "text/x-python",
   "name": "python",
   "nbconvert_exporter": "python",
   "pygments_lexer": "ipython3",
   "version": "3.9.7"
  }
 },
 "nbformat": 4,
 "nbformat_minor": 5
}
