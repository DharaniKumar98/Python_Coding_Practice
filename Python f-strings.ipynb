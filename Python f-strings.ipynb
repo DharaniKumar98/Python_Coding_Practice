{
 "cells": [
  {
   "cell_type": "markdown",
   "id": "89732343",
   "metadata": {},
   "source": [
    "* Interpolation(insert) : Insertion of an intermediate value or term into a series by estimating or calculating it from surrounding known values."
   ]
  },
  {
   "cell_type": "markdown",
   "id": "45f676f0",
   "metadata": {},
   "source": [
    "String interpolation  : string interpolation is where we put a string inside another string."
   ]
  },
  {
   "cell_type": "markdown",
   "id": "13afb906",
   "metadata": {},
   "source": [
    "advantages of using Python f-strings are:-\n",
    "\n",
    "It is the fastest string formatting method in Python.\n",
    "\n",
    "It is more readable.\n",
    "\n",
    "It is concise.\n",
    "\n",
    "It is less prone to error.\n",
    "\n",
    "It is less verbose."
   ]
  },
  {
   "cell_type": "code",
   "execution_count": 2,
   "id": "3473edf1",
   "metadata": {},
   "outputs": [
    {
     "name": "stdout",
     "output_type": "stream",
     "text": [
      "Welcome , GDK😊\n"
     ]
    }
   ],
   "source": [
    "# Example of string interpolation using f string \n",
    "\n",
    "# f-strings are just a newer syntax for foramt function , available from Python 3.6 onward .\n",
    "\n",
    "name= 'GDK'\n",
    "print(f\"Welcome , {name}😊\")"
   ]
  },
  {
   "cell_type": "markdown",
   "id": "733c432e",
   "metadata": {},
   "source": [
    "## We can use methods, functions, lambda functions and calculations in Python f-string."
   ]
  },
  {
   "cell_type": "code",
   "execution_count": 4,
   "id": "a6fcf31a",
   "metadata": {},
   "outputs": [
    {
     "name": "stdout",
     "output_type": "stream",
     "text": [
      "image001.png\n",
      "image002.png\n",
      "image003.png\n"
     ]
    }
   ],
   "source": [
    "# nested string interpolation (hardcoded value)\n",
    "\n",
    "number_of_files = 3\n",
    "\n",
    "for file_number in range(1, number_of_files + 1):\n",
    "    print(f\"image{file_number:03}.png\")"
   ]
  },
  {
   "cell_type": "markdown",
   "id": "656bcad9",
   "metadata": {},
   "source": [
    "#\tPadding\tExpression\n",
    "\n",
    "0 Padding\t{variable:0N}\n",
    "\n",
    "Decimal Places\t{variable:.Nf}\n",
    "\n",
    "Date Formatting\t{date : Directive}\n",
    "\n",
    "Space Padding\t{variable:N}\n",
    "\n",
    "Justified string\t{variable:>N}"
   ]
  },
  {
   "cell_type": "code",
   "execution_count": 5,
   "id": "6fc64977",
   "metadata": {},
   "outputs": [
    {
     "name": "stdout",
     "output_type": "stream",
     "text": [
      "How many digits are used in the numbering scheme? 4\n",
      "image0001.png\n",
      "image0002.png\n",
      "image0003.png\n"
     ]
    }
   ],
   "source": [
    "# nested string interpolation\n",
    "\n",
    "number_of_files = 3\n",
    "number_digits = int(input(\"How many digits are used in the numbering scheme? \"))\n",
    "\n",
    "for file_number in range(1, number_of_files + 1):\n",
    "    print(f\"image{file_number:0{number_digits}}.png\")"
   ]
  },
  {
   "cell_type": "code",
   "execution_count": null,
   "id": "798f166e",
   "metadata": {},
   "outputs": [],
   "source": []
  },
  {
   "cell_type": "code",
   "execution_count": 18,
   "id": "0ae6bd77",
   "metadata": {},
   "outputs": [
    {
     "ename": "SyntaxError",
     "evalue": "f-string: expecting '}' (Temp/ipykernel_11364/2336468219.py, line 1)",
     "output_type": "error",
     "traceback": [
      "\u001b[1;36m  File \u001b[1;32m\"C:\\Users\\Dell\\AppData\\Local\\Temp/ipykernel_11364/2336468219.py\"\u001b[1;36m, line \u001b[1;32m1\u001b[0m\n\u001b[1;33m    print(f'hello{'all'}')\u001b[0m\n\u001b[1;37m                   ^\u001b[0m\n\u001b[1;31mSyntaxError\u001b[0m\u001b[1;31m:\u001b[0m f-string: expecting '}'\n"
     ]
    }
   ],
   "source": [
    "print(f'hello{'all'}')\n",
    "\n",
    "# because they string is surrounded by single quotes already"
   ]
  },
  {
   "cell_type": "code",
   "execution_count": 17,
   "id": "fad6752d",
   "metadata": {},
   "outputs": [
    {
     "name": "stdout",
     "output_type": "stream",
     "text": [
      "helloall\n"
     ]
    }
   ],
   "source": [
    "print(f\"hello{'all'}\")\n",
    "\n",
    "# now it works "
   ]
  },
  {
   "cell_type": "code",
   "execution_count": 13,
   "id": "9fd6b4ff",
   "metadata": {},
   "outputs": [
    {
     "data": {
      "text/plain": [
       "'hello all'"
      ]
     },
     "execution_count": 13,
     "metadata": {},
     "output_type": "execute_result"
    }
   ],
   "source": [
    "f'hello {\"all\"}'"
   ]
  },
  {
   "cell_type": "code",
   "execution_count": 15,
   "id": "497d3a4e",
   "metadata": {},
   "outputs": [
    {
     "ename": "SyntaxError",
     "evalue": "f-string expression part cannot include a backslash (Temp/ipykernel_11364/148277092.py, line 1)",
     "output_type": "error",
     "traceback": [
      "\u001b[1;36m  File \u001b[1;32m\"C:\\Users\\Dell\\AppData\\Local\\Temp/ipykernel_11364/148277092.py\"\u001b[1;36m, line \u001b[1;32m1\u001b[0m\n\u001b[1;33m    f'hello {\"\\'all\\'\"}'\u001b[0m\n\u001b[1;37m                        ^\u001b[0m\n\u001b[1;31mSyntaxError\u001b[0m\u001b[1;31m:\u001b[0m f-string expression part cannot include a backslash\n"
     ]
    }
   ],
   "source": [
    "f'hello {\"\\'all\\'\"}'\n",
    "#f-string expression part cannot include a backslash"
   ]
  },
  {
   "cell_type": "markdown",
   "id": "e1e6f197",
   "metadata": {},
   "source": [
    "Python f-strings do not support the escape character inside the expression portion. \n",
    "It means that the f-string’s expression part can not include a backslash or the escape character. \n",
    "Instead of using the escape character you will have to use different quotes inside the expression.\n",
    "\n",
    "However, the escape character (backslash) is allowed in the string portion of the text."
   ]
  },
  {
   "cell_type": "code",
   "execution_count": 89,
   "id": "34a523d3",
   "metadata": {},
   "outputs": [
    {
     "data": {
      "text/plain": [
       "\"He said his name is 'fred/'.\""
      ]
     },
     "execution_count": 89,
     "metadata": {},
     "output_type": "execute_result"
    }
   ],
   "source": [
    "name = 'Fred'\n",
    "f'He said his name is {\"fred/\"!r}.'\n",
    "# \"He said his name is 'Fred'.\""
   ]
  },
  {
   "cell_type": "code",
   "execution_count": null,
   "id": "85d7d75f",
   "metadata": {},
   "outputs": [],
   "source": []
  },
  {
   "cell_type": "code",
   "execution_count": null,
   "id": "c0207f8d",
   "metadata": {},
   "outputs": [],
   "source": [
    "print(f'hello{\"all\"}')"
   ]
  },
  {
   "cell_type": "code",
   "execution_count": 7,
   "id": "0fd2236c",
   "metadata": {},
   "outputs": [
    {
     "data": {
      "text/plain": [
       "20"
      ]
     },
     "execution_count": 7,
     "metadata": {},
     "output_type": "execute_result"
    }
   ],
   "source": [
    "(lambda x: x*4)(5)"
   ]
  },
  {
   "cell_type": "markdown",
   "id": "afcbb5bd",
   "metadata": {},
   "source": [
    "You can print braces/brackets using the Python f-strings by using two braces to print single brace \n",
    "and 4 braces to print double braces."
   ]
  },
  {
   "cell_type": "code",
   "execution_count": 73,
   "id": "14bb4b4d",
   "metadata": {},
   "outputs": [
    {
     "data": {
      "text/plain": [
       "'{{\"This will print Double Braces\"}}'"
      ]
     },
     "execution_count": 73,
     "metadata": {},
     "output_type": "execute_result"
    }
   ],
   "source": [
    "f'{{\"Single Braces\"}}'\n",
    "#o/p : '{\"Single Braces\"}'\n",
    "f'{{{\"This will also print Single Braces\"}}}'\n",
    "#o/p : '{This will also print Single Braces}'\n",
    "f'{{{{\"This will print Double Braces\"}}}}'\n",
    "#o/p : '{{\"This will print Double Braces\"}}'\n"
   ]
  },
  {
   "cell_type": "code",
   "execution_count": null,
   "id": "1ace1589",
   "metadata": {},
   "outputs": [],
   "source": []
  },
  {
   "cell_type": "markdown",
   "id": "3750b7cb",
   "metadata": {},
   "source": [
    "# How to do a dictionary format with f-strings in Python 3?\n",
    "Since dictionaries involve quotes, using them inside the f-string could be tricky.\n",
    "The best way is to use different quotes than the outside expression i.e. double-quotes, \n",
    "provided you are using single quotes for the f-strings expression."
   ]
  },
  {
   "cell_type": "code",
   "execution_count": null,
   "id": "8eda3603",
   "metadata": {},
   "outputs": [],
   "source": []
  },
  {
   "cell_type": "code",
   "execution_count": 74,
   "id": "34b61c1f",
   "metadata": {},
   "outputs": [
    {
     "ename": "SyntaxError",
     "evalue": "f-string: unmatched '[' (Temp/ipykernel_11364/4239443980.py, line 5)",
     "output_type": "error",
     "traceback": [
      "\u001b[1;36m  File \u001b[1;32m\"C:\\Users\\Dell\\AppData\\Local\\Temp/ipykernel_11364/4239443980.py\"\u001b[1;36m, line \u001b[1;32m5\u001b[0m\n\u001b[1;33m    f'My name is {details['name'] and I am {details['age'].'\u001b[0m\n\u001b[1;37m                           ^\u001b[0m\n\u001b[1;31mSyntaxError\u001b[0m\u001b[1;31m:\u001b[0m f-string: unmatched '['\n"
     ]
    }
   ],
   "source": [
    "details = {'name': 'GDK', 'age' : 30}\n",
    "\n",
    "# If you use single quotes\n",
    "\n",
    "f'My name is {details['name'] and I am {details['age'].'\n",
    "#   File \"<stdin>\", line 1\n",
    "#     f'My name is {details['name'] and I am {details['age'].'\n",
    "#                               ^\n",
    "# SyntaxError: invalid syntax\n",
    "\n",
    "# If you try using backslash\n",
    "\n",
    "f'My name is {details[\\'name\\'] and I am {details[\\'age\\'].'\n",
    "#   File \"<stdin>\", line 1\n",
    "# SyntaxError: f-string expression part cannot include a backslash\n",
    "\n",
    "# The best way is to use different quotes than outside (i.e. double-quotes)\n",
    "\n",
    "f'My name is {details[\"name\"]} and I am {details[\"age\"]}.'\n",
    "# o/p : 'My name is saral and I am 30.'"
   ]
  },
  {
   "cell_type": "code",
   "execution_count": 19,
   "id": "3026d5cb",
   "metadata": {},
   "outputs": [],
   "source": [
    "#  f-string padding in Python"
   ]
  },
  {
   "cell_type": "code",
   "execution_count": 20,
   "id": "826088fe",
   "metadata": {},
   "outputs": [],
   "source": [
    "# How to pad string with zero in Python f-strings (0-Padding)?\n",
    "\n",
    "#We can pad a string with zeros (0-Padding) in Python f-strings by adding {variable:0N} inside the braces, \n",
    "# where N stands for total number of digits-\n",
    "\n",
    "# Syntax : f'<text>{variable:0N}'"
   ]
  },
  {
   "cell_type": "code",
   "execution_count": 22,
   "id": "a60fd5ef",
   "metadata": {},
   "outputs": [
    {
     "name": "stdout",
     "output_type": "stream",
     "text": [
      "My id is 000001\n"
     ]
    }
   ],
   "source": [
    "id= 1\n",
    "\n",
    "print(f'My id is {id:06}')"
   ]
  },
  {
   "cell_type": "code",
   "execution_count": null,
   "id": "e733e94f",
   "metadata": {},
   "outputs": [],
   "source": []
  },
  {
   "cell_type": "code",
   "execution_count": null,
   "id": "f3b9c0a5",
   "metadata": {},
   "outputs": [],
   "source": [
    "# How to add decimal places in a float in Python f-strings (Formatting a float)?\n",
    "\n",
    "# We can define the fixed number of digits after decimal in a float using fstrings by adding {variable:.Nf}, \n",
    "# where N stands for total number of decimal places. This doesn’t just strip off the rest of the decimal points,\n",
    "# but round it properly."
   ]
  },
  {
   "cell_type": "code",
   "execution_count": 26,
   "id": "f6e76170",
   "metadata": {},
   "outputs": [
    {
     "name": "stdout",
     "output_type": "stream",
     "text": [
      "The value of x is 3.1235\n"
     ]
    }
   ],
   "source": [
    "x=3.123456732423434232\n",
    "\n",
    "print(f'The value of x is {x:.4f}')"
   ]
  },
  {
   "cell_type": "code",
   "execution_count": 27,
   "id": "e6a5f535",
   "metadata": {},
   "outputs": [
    {
     "name": "stdout",
     "output_type": "stream",
     "text": [
      "The value of x is 3.123457\n"
     ]
    }
   ],
   "source": [
    "print(f'The value of x is {x:4f}')"
   ]
  },
  {
   "cell_type": "code",
   "execution_count": null,
   "id": "ff98ca07",
   "metadata": {},
   "outputs": [],
   "source": []
  },
  {
   "cell_type": "code",
   "execution_count": null,
   "id": "bd0e052c",
   "metadata": {},
   "outputs": [],
   "source": [
    "# How to format dates in Python f-strings?"
   ]
  },
  {
   "cell_type": "code",
   "execution_count": null,
   "id": "90e8048d",
   "metadata": {},
   "outputs": [],
   "source": [
    "#desired format in curly braces {date:directive}"
   ]
  },
  {
   "cell_type": "code",
   "execution_count": 30,
   "id": "13589348",
   "metadata": {},
   "outputs": [],
   "source": [
    "import datetime"
   ]
  },
  {
   "cell_type": "code",
   "execution_count": 35,
   "id": "99f7a268",
   "metadata": {},
   "outputs": [
    {
     "name": "stdout",
     "output_type": "stream",
     "text": [
      "2022-04-16 was on a Saturday\n",
      "The date is Saturday, April 16, 2022.\n"
     ]
    }
   ],
   "source": [
    "date = datetime.date.today()\n",
    "print(f'{date} was on a {date:%A}')\n",
    "\n",
    "print(f'The date is {date:%A, %B %d, %Y}.')\n"
   ]
  },
  {
   "cell_type": "code",
   "execution_count": null,
   "id": "4a5c212b",
   "metadata": {},
   "outputs": [],
   "source": []
  },
  {
   "cell_type": "markdown",
   "id": "bf814c39",
   "metadata": {},
   "source": [
    "# How to justify a string in Python f-strings?\n",
    "We can justify a string in Python f-strings using {variable:>N} where N is the total length"
   ]
  },
  {
   "cell_type": "code",
   "execution_count": null,
   "id": "092c4211",
   "metadata": {},
   "outputs": [],
   "source": []
  },
  {
   "cell_type": "code",
   "execution_count": 76,
   "id": "a474fcae",
   "metadata": {},
   "outputs": [
    {
     "name": "stdout",
     "output_type": "stream",
     "text": [
      "Python\n",
      " ython\n",
      "  thon\n",
      "   hon\n",
      "    on\n",
      "     n\n"
     ]
    }
   ],
   "source": [
    "s1 = 'Python'\n",
    "s2 = 'ython'\n",
    "s3 = 'thon'\n",
    "s4 = 'hon'\n",
    "s5 = 'on'\n",
    "s6 = 'n'\n",
    "\n",
    "print(f'{s1:>6}')\n",
    "print(f'{s2:>6}')\n",
    "print(f'{s3:>6}')\n",
    "print(f'{s4:>6}')\n",
    "print(f'{s5:>6}')\n",
    "print(f'{s6:>6}')\n"
   ]
  },
  {
   "cell_type": "code",
   "execution_count": 84,
   "id": "54e56d85",
   "metadata": {},
   "outputs": [
    {
     "name": "stdout",
     "output_type": "stream",
     "text": [
      "        on     n\n"
     ]
    }
   ],
   "source": [
    "print(f'{s5:>10}'f'{s6:>6}')"
   ]
  },
  {
   "cell_type": "code",
   "execution_count": null,
   "id": "ea616a8c",
   "metadata": {},
   "outputs": [],
   "source": []
  },
  {
   "cell_type": "code",
   "execution_count": null,
   "id": "157a26f4",
   "metadata": {},
   "outputs": [],
   "source": []
  },
  {
   "cell_type": "code",
   "execution_count": null,
   "id": "9e0c3fcf",
   "metadata": {},
   "outputs": [],
   "source": []
  },
  {
   "cell_type": "code",
   "execution_count": null,
   "id": "a48369bc",
   "metadata": {},
   "outputs": [],
   "source": [
    "# How to print various numeric notations in Python f-strings?"
   ]
  },
  {
   "cell_type": "code",
   "execution_count": 87,
   "id": "1fe0b699",
   "metadata": {},
   "outputs": [
    {
     "name": "stdout",
     "output_type": "stream",
     "text": [
      "320\n",
      "1440\n",
      "8.000000e+02\n",
      "0.00001380\n"
     ]
    }
   ],
   "source": [
    "number = 800\n",
    "\n",
    "# Hexadecimal\n",
    "print(f'{number:x}')\n",
    "\n",
    "# Ocatal\n",
    "print(f'{number:o}')\n",
    "\n",
    "# Scientific\n",
    "print(f'{number:e}')\n",
    "\n",
    "#nn = 1.3799999578623101e-05\n",
    "print(f'{nn:.8f}')"
   ]
  },
  {
   "cell_type": "code",
   "execution_count": null,
   "id": "f1538016",
   "metadata": {},
   "outputs": [],
   "source": []
  },
  {
   "cell_type": "code",
   "execution_count": null,
   "id": "2d112d5b",
   "metadata": {},
   "outputs": [],
   "source": []
  },
  {
   "cell_type": "code",
   "execution_count": null,
   "id": "542e3cdc",
   "metadata": {},
   "outputs": [],
   "source": [
    "#How to print raw f-strings in Python?\n",
    "# We can also print raw f-strings by using {variable!r}"
   ]
  },
  {
   "cell_type": "code",
   "execution_count": 37,
   "id": "41c62ddb",
   "metadata": {},
   "outputs": [
    {
     "data": {
      "text/plain": [
       "\"He said his name is 'GDK'.\""
      ]
     },
     "execution_count": 37,
     "metadata": {},
     "output_type": "execute_result"
    }
   ],
   "source": [
    "f'He said his name is {name!r}.'"
   ]
  },
  {
   "cell_type": "code",
   "execution_count": null,
   "id": "67f28dfc",
   "metadata": {},
   "outputs": [],
   "source": []
  },
  {
   "cell_type": "markdown",
   "id": "d9be889c",
   "metadata": {},
   "source": [
    "#\tPadding\tExpression\n",
    "\n",
    "0 Padding\t{variable:0N}\n",
    "\n",
    "Decimal Places\t{variable:.Nf}\n",
    "\n",
    "Date Formatting\t{date : Directive}\n",
    "\n",
    "Space Padding\t{variable:N}\n",
    "\n",
    "Justified string\t{variable:>N}"
   ]
  },
  {
   "cell_type": "code",
   "execution_count": null,
   "id": "df340cc3",
   "metadata": {},
   "outputs": [],
   "source": []
  },
  {
   "cell_type": "code",
   "execution_count": 38,
   "id": "65b382b8",
   "metadata": {},
   "outputs": [],
   "source": [
    "# Multi-line f-strings in Python"
   ]
  },
  {
   "cell_type": "code",
   "execution_count": 42,
   "id": "2b7102c4",
   "metadata": {},
   "outputs": [],
   "source": [
    "age = 30\n",
    "profession = \"Pythonista\"\n",
    "sentence = (f'My Name is {name}.'f'I am {age} years old.'f'I am a {profession}.')\n",
    "\n"
   ]
  },
  {
   "cell_type": "code",
   "execution_count": 43,
   "id": "47d58a1f",
   "metadata": {},
   "outputs": [
    {
     "name": "stdout",
     "output_type": "stream",
     "text": [
      "My Name is GDK.I am 30 years old.I am a Pythonista.\n"
     ]
    }
   ],
   "source": [
    "print(sentence)"
   ]
  },
  {
   "cell_type": "code",
   "execution_count": null,
   "id": "b51c811d",
   "metadata": {},
   "outputs": [],
   "source": []
  },
  {
   "cell_type": "code",
   "execution_count": 46,
   "id": "f49bd6e5",
   "metadata": {},
   "outputs": [],
   "source": [
    "sentence2 = (f\"\"\"My Name is {name}.I am {age} years old.I am a {profession}.\"\"\")"
   ]
  },
  {
   "cell_type": "code",
   "execution_count": 47,
   "id": "5a635e82",
   "metadata": {},
   "outputs": [
    {
     "data": {
      "text/plain": [
       "'My Name is GDK.I am 30 years old.I am a Pythonista.'"
      ]
     },
     "execution_count": 47,
     "metadata": {},
     "output_type": "execute_result"
    }
   ],
   "source": [
    "sentence2"
   ]
  },
  {
   "cell_type": "code",
   "execution_count": 48,
   "id": "978268db",
   "metadata": {},
   "outputs": [
    {
     "name": "stdout",
     "output_type": "stream",
     "text": [
      "My Name is GDK.I am 30 years old.I am a Pythonista.\n"
     ]
    }
   ],
   "source": [
    "print(sentence2)"
   ]
  },
  {
   "cell_type": "code",
   "execution_count": 44,
   "id": "36c78135",
   "metadata": {},
   "outputs": [
    {
     "name": "stdout",
     "output_type": "stream",
     "text": [
      "My Name is GDK.I am 30 years old.I am a Pythonista.\n"
     ]
    }
   ],
   "source": [
    "print(f'My Name is {name}.'f'I am {age} years old.'f'I am a {profession}.')"
   ]
  },
  {
   "cell_type": "code",
   "execution_count": null,
   "id": "92bf0441",
   "metadata": {},
   "outputs": [],
   "source": []
  },
  {
   "cell_type": "code",
   "execution_count": 55,
   "id": "095db0dc",
   "metadata": {},
   "outputs": [],
   "source": [
    "# Python f-strings are faster than any other string formatting in Python i.e. str.format and %-formatting.\n",
    "# f-strings are twice faster than str.format() and atleast 80% faster than %-formatting."
   ]
  },
  {
   "cell_type": "code",
   "execution_count": null,
   "id": "2fb20f6f",
   "metadata": {},
   "outputs": [],
   "source": []
  },
  {
   "cell_type": "code",
   "execution_count": 60,
   "id": "8c0b68c9",
   "metadata": {},
   "outputs": [],
   "source": [
    "import timeit\n",
    "import time"
   ]
  },
  {
   "cell_type": "code",
   "execution_count": 64,
   "id": "433cafae",
   "metadata": {},
   "outputs": [
    {
     "ename": "IndentationError",
     "evalue": "unexpected indent (<timeit-src>, line 3)",
     "output_type": "error",
     "traceback": [
      "Traceback \u001b[1;36m(most recent call last)\u001b[0m:\n",
      "  File \u001b[0;32m\"D:\\Anaconda\\lib\\site-packages\\IPython\\core\\interactiveshell.py\"\u001b[0m, line \u001b[0;32m3444\u001b[0m, in \u001b[0;35mrun_code\u001b[0m\n    exec(code_obj, self.user_global_ns, self.user_ns)\n",
      "  File \u001b[0;32m\"C:\\Users\\Dell\\AppData\\Local\\Temp/ipykernel_11364/1906335999.py\"\u001b[0m, line \u001b[0;32m1\u001b[0m, in \u001b[0;35m<module>\u001b[0m\n    print(timeit.timeit(stmt =\"\"\"ca = list(itertools.combinations([1,2,3,5,4],3))\n",
      "  File \u001b[0;32m\"D:\\Anaconda\\lib\\timeit.py\"\u001b[0m, line \u001b[0;32m233\u001b[0m, in \u001b[0;35mtimeit\u001b[0m\n    return Timer(stmt, setup, timer, globals).timeit(number)\n",
      "\u001b[1;36m  File \u001b[1;32m\"D:\\Anaconda\\lib\\timeit.py\"\u001b[1;36m, line \u001b[1;32m122\u001b[1;36m, in \u001b[1;35m__init__\u001b[1;36m\u001b[0m\n\u001b[1;33m    compile(stmtprefix + stmt, dummy_src_name, \"exec\")\u001b[0m\n",
      "\u001b[1;36m  File \u001b[1;32m\"<timeit-src>\"\u001b[1;36m, line \u001b[1;32m3\u001b[0m\n\u001b[1;33m    cb = list(itertools.combinations([2,3,4,5,6],3))\u001b[0m\n\u001b[1;37m    ^\u001b[0m\n\u001b[1;31mIndentationError\u001b[0m\u001b[1;31m:\u001b[0m unexpected indent\n"
     ]
    }
   ],
   "source": [
    "print(timeit.timeit(stmt =\"\"\"ca = list(itertools.combinations([1,2,3,5,4],3))\n",
    "                             cb = list(itertools.combinations([2,3,4,5,6],3))\n",
    "                             print(len(set(ca).intersection(set(cb))))\"\"\" ,\n",
    "                    timer = time.perf_counter,\n",
    "                    number =1 ,\n",
    "                    globals =None  ))"
   ]
  },
  {
   "cell_type": "code",
   "execution_count": 67,
   "id": "a9ec75a4",
   "metadata": {},
   "outputs": [
    {
     "data": {
      "text/plain": [
       "[2, 3, 4, 5, 6]"
      ]
     },
     "execution_count": 67,
     "metadata": {},
     "output_type": "execute_result"
    }
   ],
   "source": [
    "B"
   ]
  },
  {
   "cell_type": "code",
   "execution_count": 65,
   "id": "8f317178",
   "metadata": {},
   "outputs": [],
   "source": [
    "def func2(A,B):\n",
    "    ca = list(itertools.combinations(A,3))\n",
    "    cb = list(itertools.combinations(B,3))\n",
    "    return len(set(ca).intersection(set(cb)))"
   ]
  },
  {
   "cell_type": "code",
   "execution_count": 68,
   "id": "254ad073",
   "metadata": {},
   "outputs": [
    {
     "name": "stdout",
     "output_type": "stream",
     "text": [
      "1.3799999578623101e-05\n"
     ]
    }
   ],
   "source": [
    "print(timeit.timeit(stmt = 'func2(A,B)' , setup = 'A=[1,2,3,4,5];B=[2,3,4,5,6]' ,number =1000000 ,globals = globals()))"
   ]
  },
  {
   "cell_type": "code",
   "execution_count": 71,
   "id": "2e632a5c",
   "metadata": {},
   "outputs": [
    {
     "name": "stdout",
     "output_type": "stream",
     "text": [
      "2.125377299998945\n"
     ]
    }
   ],
   "source": [
    "print(timeit.timeit(stmt = 'func2(A,B)' , setup = 'A=[1,2,3,4,5];B=[2,3,4,5,6]' ,number =1000000 ,globals = globals()))"
   ]
  },
  {
   "cell_type": "code",
   "execution_count": 69,
   "id": "d73aafc3",
   "metadata": {},
   "outputs": [],
   "source": [
    "nn = 1.3799999578623101e-05"
   ]
  },
  {
   "cell_type": "code",
   "execution_count": 86,
   "id": "61050d20",
   "metadata": {},
   "outputs": [
    {
     "name": "stdout",
     "output_type": "stream",
     "text": [
      "0.00001380\n"
     ]
    }
   ],
   "source": [
    "print(f'{nn:.8f}')"
   ]
  },
  {
   "cell_type": "code",
   "execution_count": 1,
   "id": "df48b7f3",
   "metadata": {},
   "outputs": [],
   "source": [
    "# 19th April\n",
    "\n",
    "nums = [1, 2, 3, 4, 5, 6]\n"
   ]
  },
  {
   "cell_type": "code",
   "execution_count": 8,
   "id": "ef48fbcd",
   "metadata": {},
   "outputs": [
    {
     "name": "stdout",
     "output_type": "stream",
     "text": [
      "1 ,6\n",
      "first = 1 , last = 6\n",
      "first = 1 , middle =[2, 3, 4, 5] ,last = 6\n",
      "a=1 , b=2 ,c=[3, 4] ,d=5 ,e=6\n"
     ]
    }
   ],
   "source": [
    "first, *middle ,last = nums\n",
    "\n",
    "a,b,*c,d,e =nums\n",
    "\n",
    "# getting values through f-Strings\n",
    "print(f'{first} ,{last}')\n",
    "\n",
    "# getting variables names & values without writing them explicitly within quotes.\n",
    "print(f'{first = } , {last = }')\n",
    "\n",
    "\n",
    "print(f'{first = } , {middle =} ,{last = }')\n",
    "\n",
    "print(f'{a=} , {b=} ,{c=} ,{d=} ,{e=}')"
   ]
  },
  {
   "cell_type": "code",
   "execution_count": 9,
   "id": "cde86b96",
   "metadata": {},
   "outputs": [
    {
     "data": {
      "text/plain": [
       "'::::::::::Hello::::::::::'"
      ]
     },
     "execution_count": 9,
     "metadata": {},
     "output_type": "execute_result"
    }
   ],
   "source": [
    "word = 'Hello'\n",
    "char = ':'\n",
    "width = 25\n",
    "f'{word:{char}^{width}}'"
   ]
  },
  {
   "cell_type": "code",
   "execution_count": 12,
   "id": "5ada178a",
   "metadata": {},
   "outputs": [
    {
     "name": "stdout",
     "output_type": "stream",
     "text": [
      "               Hello\n",
      "Hello===============\n"
     ]
    }
   ],
   "source": [
    "print(f'{word:>20}')\n",
    "\n",
    "print(f'{word:=<20}')"
   ]
  },
  {
   "cell_type": "code",
   "execution_count": 16,
   "id": "565e6719",
   "metadata": {},
   "outputs": [
    {
     "name": "stdout",
     "output_type": "stream",
     "text": [
      "---------------Hello\n",
      "///////////////Hello\n",
      "///////Hello////////\n"
     ]
    }
   ],
   "source": [
    "print(f'{word:->20}')\n",
    "\n",
    "print(f'{word:/>20}')\n",
    "\n",
    "print(f'{word:/^20}')"
   ]
  }
 ],
 "metadata": {
  "kernelspec": {
   "display_name": "Python 3 (ipykernel)",
   "language": "python",
   "name": "python3"
  },
  "language_info": {
   "codemirror_mode": {
    "name": "ipython",
    "version": 3
   },
   "file_extension": ".py",
   "mimetype": "text/x-python",
   "name": "python",
   "nbconvert_exporter": "python",
   "pygments_lexer": "ipython3",
   "version": "3.10.2"
  }
 },
 "nbformat": 4,
 "nbformat_minor": 5
}
